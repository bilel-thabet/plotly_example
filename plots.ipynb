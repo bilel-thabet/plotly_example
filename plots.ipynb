{
 "cells": [
  {
   "cell_type": "code",
   "execution_count": 1,
   "metadata": {},
   "outputs": [
    {
     "data": {
      "text/html": [
       "        <script type=\"text/javascript\">\n",
       "        window.PlotlyConfig = {MathJaxConfig: 'local'};\n",
       "        if (window.MathJax) {MathJax.Hub.Config({SVG: {font: \"STIX-Web\"}});}\n",
       "        if (typeof require !== 'undefined') {\n",
       "        require.undef(\"plotly\");\n",
       "        requirejs.config({\n",
       "            paths: {\n",
       "                'plotly': ['https://cdn.plot.ly/plotly-latest.min']\n",
       "            }\n",
       "        });\n",
       "        require(['plotly'], function(Plotly) {\n",
       "            window._Plotly = Plotly;\n",
       "        });\n",
       "        }\n",
       "        </script>\n",
       "        "
      ]
     },
     "metadata": {},
     "output_type": "display_data"
    }
   ],
   "source": [
    "import pandas as pd\n",
    "import numpy as np\n",
    "import plotly as py\n",
    "import plotly.graph_objs as go\n",
    "import ipywidgets as widgets\n",
    "import warnings\n",
    "\n",
    "py.offline.init_notebook_mode(connected = True)\n",
    "warnings.filterwarnings('ignore')"
   ]
  },
  {
   "cell_type": "code",
   "execution_count": 78,
   "metadata": {},
   "outputs": [],
   "source": [
    "df = pd.read_excel(\"data.xlsx\")"
   ]
  },
  {
   "cell_type": "code",
   "execution_count": 79,
   "metadata": {},
   "outputs": [
    {
     "data": {
      "text/html": [
       "<div>\n",
       "<style scoped>\n",
       "    .dataframe tbody tr th:only-of-type {\n",
       "        vertical-align: middle;\n",
       "    }\n",
       "\n",
       "    .dataframe tbody tr th {\n",
       "        vertical-align: top;\n",
       "    }\n",
       "\n",
       "    .dataframe thead th {\n",
       "        text-align: right;\n",
       "    }\n",
       "</style>\n",
       "<table border=\"1\" class=\"dataframe\">\n",
       "  <thead>\n",
       "    <tr style=\"text-align: right;\">\n",
       "      <th></th>\n",
       "      <th>class</th>\n",
       "      <th>preprocessed-text</th>\n",
       "      <th>source</th>\n",
       "      <th>text</th>\n",
       "      <th>title</th>\n",
       "    </tr>\n",
       "  </thead>\n",
       "  <tbody>\n",
       "    <tr>\n",
       "      <th>0</th>\n",
       "      <td>-1</td>\n",
       "      <td>NaN</td>\n",
       "      <td>algerie360</td>\n",
       "      <td>Yazid AlilatIl a évoqué à la radio nationale é...</td>\n",
       "      <td>Médicaments: Des anticancéreux bientôt produit...</td>\n",
       "    </tr>\n",
       "    <tr>\n",
       "      <th>1</th>\n",
       "      <td>-1</td>\n",
       "      <td>NaN</td>\n",
       "      <td>AlgeriePart</td>\n",
       "      <td>VEON, a publié aujourd’hui les chiffres de l’e...</td>\n",
       "      <td>La descente aux enfers de l’ex-leader de la té...</td>\n",
       "    </tr>\n",
       "    <tr>\n",
       "      <th>2</th>\n",
       "      <td>-1</td>\n",
       "      <td>NaN</td>\n",
       "      <td>AlgeriePart</td>\n",
       "      <td>VEON, a publié aujourd’hui les chiffres de l’e...</td>\n",
       "      <td>NaN</td>\n",
       "    </tr>\n",
       "    <tr>\n",
       "      <th>3</th>\n",
       "      <td>-1</td>\n",
       "      <td>NaN</td>\n",
       "      <td>AlgeriePart</td>\n",
       "      <td>Une vidéo inédite obtenue par Algériepart retr...</td>\n",
       "      <td>Vidéo inédite. La colère des employés de djezz...</td>\n",
       "    </tr>\n",
       "    <tr>\n",
       "      <th>4</th>\n",
       "      <td>-1</td>\n",
       "      <td>NaN</td>\n",
       "      <td>AlgeriePart</td>\n",
       "      <td>Une grosse pagaille a secoué lundi l’aéroport ...</td>\n",
       "      <td>NaN</td>\n",
       "    </tr>\n",
       "  </tbody>\n",
       "</table>\n",
       "</div>"
      ],
      "text/plain": [
       "   class  preprocessed-text       source  \\\n",
       "0     -1                NaN   algerie360   \n",
       "1     -1                NaN  AlgeriePart   \n",
       "2     -1                NaN  AlgeriePart   \n",
       "3     -1                NaN  AlgeriePart   \n",
       "4     -1                NaN  AlgeriePart   \n",
       "\n",
       "                                                text  \\\n",
       "0  Yazid AlilatIl a évoqué à la radio nationale é...   \n",
       "1  VEON, a publié aujourd’hui les chiffres de l’e...   \n",
       "2  VEON, a publié aujourd’hui les chiffres de l’e...   \n",
       "3  Une vidéo inédite obtenue par Algériepart retr...   \n",
       "4  Une grosse pagaille a secoué lundi l’aéroport ...   \n",
       "\n",
       "                                               title  \n",
       "0  Médicaments: Des anticancéreux bientôt produit...  \n",
       "1  La descente aux enfers de l’ex-leader de la té...  \n",
       "2                                                NaN  \n",
       "3  Vidéo inédite. La colère des employés de djezz...  \n",
       "4                                                NaN  "
      ]
     },
     "execution_count": 79,
     "metadata": {},
     "output_type": "execute_result"
    }
   ],
   "source": [
    "df.head()"
   ]
  },
  {
   "cell_type": "code",
   "execution_count": 80,
   "metadata": {},
   "outputs": [],
   "source": [
    "df = df.replace('elwatan','Elwatan')\n",
    "df_agg = df.groupby('source').count()[['class']]"
   ]
  },
  {
   "cell_type": "code",
   "execution_count": 81,
   "metadata": {},
   "outputs": [],
   "source": [
    "df_agg.columns = ['count']\n",
    "df_agg['sources'] = ['Algerie Part', 'El Watan', 'Algerie360']\n",
    "df_agg['percentage'] = (df_agg['count']*100)/df_agg['count'].sum()\n",
    "df_agg['percentage'] = df_agg['percentage'].round(2)"
   ]
  },
  {
   "cell_type": "code",
   "execution_count": 91,
   "metadata": {},
   "outputs": [
    {
     "data": {
      "application/vnd.plotly.v1+json": {
       "config": {
        "linkText": "Export to plot.ly",
        "plotlyServerURL": "https://plot.ly",
        "responsive": true,
        "showLink": false
       },
       "data": [
        {
         "orientation": "h",
         "text": [
          40.06,
          15.28,
          44.66
         ],
         "textposition": "auto",
         "type": "bar",
         "uid": "343f2484-2231-45cd-869f-0beb4b7bb21d",
         "x": [
          40.06,
          15.28,
          44.66
         ],
         "y": [
          "Algerie Part",
          "El Watan",
          "Algerie360"
         ]
        }
       ],
       "layout": {
        "title": {
         "text": "Ditribution des Sources"
        },
        "yaxis": {
         "automargin": true,
         "tickfont": {
          "size": 18
         }
        }
       }
      },
      "text/html": [
       "<div>\n",
       "        \n",
       "        \n",
       "            <div id=\"7e046778-df09-47dd-9ff5-66e1b0a37285\" class=\"plotly-graph-div\" style=\"height:525px; width:100%;\"></div>\n",
       "            <script type=\"text/javascript\">\n",
       "                require([\"plotly\"], function(Plotly) {\n",
       "                    window.PLOTLYENV=window.PLOTLYENV || {};\n",
       "                    window.PLOTLYENV.BASE_URL='https://plot.ly';\n",
       "                    \n",
       "                if (document.getElementById(\"7e046778-df09-47dd-9ff5-66e1b0a37285\")) {\n",
       "                    Plotly.newPlot(\n",
       "                        '7e046778-df09-47dd-9ff5-66e1b0a37285',\n",
       "                        [{\"orientation\": \"h\", \"text\": [40.06, 15.28, 44.66], \"textposition\": \"auto\", \"type\": \"bar\", \"uid\": \"b9cb62e1-1368-4d5d-91d5-0574316382a1\", \"x\": [40.06, 15.28, 44.66], \"y\": [\"Algerie Part\", \"El Watan\", \"Algerie360\"]}],\n",
       "                        {\"title\": {\"text\": \"Ditribution des Sources\"}, \"yaxis\": {\"automargin\": true, \"tickfont\": {\"size\": 18}}},\n",
       "                        {\"showLink\": false, \"linkText\": \"Export to plot.ly\", \"plotlyServerURL\": \"https://plot.ly\", \"responsive\": true}\n",
       "                    ).then(function(){\n",
       "                            \n",
       "var gd = document.getElementById('7e046778-df09-47dd-9ff5-66e1b0a37285');\n",
       "var x = new MutationObserver(function (mutations, observer) {{\n",
       "        var display = window.getComputedStyle(gd).display;\n",
       "        if (!display || display === 'none') {{\n",
       "            console.log([gd, 'removed!']);\n",
       "            Plotly.purge(gd);\n",
       "            observer.disconnect();\n",
       "        }}\n",
       "}});\n",
       "\n",
       "// Listen for the removal of the full notebook cells\n",
       "var notebookContainer = gd.closest('#notebook-container');\n",
       "if (notebookContainer) {{\n",
       "    x.observe(notebookContainer, {childList: true});\n",
       "}}\n",
       "\n",
       "// Listen for the clearing of the current output cell\n",
       "var outputEl = gd.closest('.output');\n",
       "if (outputEl) {{\n",
       "    x.observe(outputEl, {childList: true});\n",
       "}}\n",
       "\n",
       "                        })\n",
       "                };\n",
       "                });\n",
       "            </script>\n",
       "        </div>"
      ]
     },
     "metadata": {},
     "output_type": "display_data"
    }
   ],
   "source": [
    "layout = go.Layout(\n",
    "    title = \"Ditribution des Sources\",\n",
    "    yaxis = go.layout.YAxis(\n",
    "        tickfont = dict(\n",
    "            size = 18\n",
    "        ),\n",
    "        automargin = True\n",
    "    )\n",
    ")\n",
    "\n",
    "data = [go.Bar(\n",
    "            x = df_agg['percentage'],\n",
    "            y = df_agg['sources'],\n",
    "            text = df_agg['percentage'],\n",
    "            textposition = 'auto',\n",
    "            orientation = 'h'\n",
    ")]\n",
    "\n",
    "fig = go.Figure(data=data, layout=layout)\n",
    "py.offline.iplot(fig, filename='horizontal-bar')"
   ]
  },
  {
   "cell_type": "code",
   "execution_count": 129,
   "metadata": {},
   "outputs": [
    {
     "data": {
      "application/vnd.plotly.v1+json": {
       "config": {
        "linkText": "Export to plot.ly",
        "plotlyServerURL": "https://plot.ly",
        "responsive": true,
        "showLink": false
       },
       "data": [
        {
         "orientation": "v",
         "text": [
          40.06,
          15.28,
          44.66
         ],
         "textposition": "auto",
         "type": "bar",
         "uid": "0c90d6dc-1911-4f16-95cb-fca1cf2add6d",
         "x": [
          "Algerie Part",
          "El Watan",
          "Algerie360"
         ],
         "y": [
          40.06,
          15.28,
          44.66
         ]
        }
       ],
       "layout": {
        "title": {
         "text": "Ditribution des Sources"
        },
        "xaxis": {
         "automargin": true,
         "tickfont": {
          "size": 18
         }
        }
       }
      },
      "text/html": [
       "<div>\n",
       "        \n",
       "        \n",
       "            <div id=\"b25b2426-ee7e-49e6-820b-467a89471614\" class=\"plotly-graph-div\" style=\"height:525px; width:100%;\"></div>\n",
       "            <script type=\"text/javascript\">\n",
       "                require([\"plotly\"], function(Plotly) {\n",
       "                    window.PLOTLYENV=window.PLOTLYENV || {};\n",
       "                    window.PLOTLYENV.BASE_URL='https://plot.ly';\n",
       "                    \n",
       "                if (document.getElementById(\"b25b2426-ee7e-49e6-820b-467a89471614\")) {\n",
       "                    Plotly.newPlot(\n",
       "                        'b25b2426-ee7e-49e6-820b-467a89471614',\n",
       "                        [{\"orientation\": \"v\", \"text\": [40.06, 15.28, 44.66], \"textposition\": \"auto\", \"type\": \"bar\", \"uid\": \"346998c0-5c10-483a-9a6e-786a94df9bec\", \"x\": [\"Algerie Part\", \"El Watan\", \"Algerie360\"], \"y\": [40.06, 15.28, 44.66]}],\n",
       "                        {\"title\": {\"text\": \"Ditribution des Sources\"}, \"xaxis\": {\"automargin\": true, \"tickfont\": {\"size\": 18}}},\n",
       "                        {\"showLink\": false, \"linkText\": \"Export to plot.ly\", \"plotlyServerURL\": \"https://plot.ly\", \"responsive\": true}\n",
       "                    ).then(function(){\n",
       "                            \n",
       "var gd = document.getElementById('b25b2426-ee7e-49e6-820b-467a89471614');\n",
       "var x = new MutationObserver(function (mutations, observer) {{\n",
       "        var display = window.getComputedStyle(gd).display;\n",
       "        if (!display || display === 'none') {{\n",
       "            console.log([gd, 'removed!']);\n",
       "            Plotly.purge(gd);\n",
       "            observer.disconnect();\n",
       "        }}\n",
       "}});\n",
       "\n",
       "// Listen for the removal of the full notebook cells\n",
       "var notebookContainer = gd.closest('#notebook-container');\n",
       "if (notebookContainer) {{\n",
       "    x.observe(notebookContainer, {childList: true});\n",
       "}}\n",
       "\n",
       "// Listen for the clearing of the current output cell\n",
       "var outputEl = gd.closest('.output');\n",
       "if (outputEl) {{\n",
       "    x.observe(outputEl, {childList: true});\n",
       "}}\n",
       "\n",
       "                        })\n",
       "                };\n",
       "                });\n",
       "            </script>\n",
       "        </div>"
      ]
     },
     "metadata": {},
     "output_type": "display_data"
    }
   ],
   "source": [
    "layout = go.Layout(\n",
    "    title = \"Ditribution des Sources\",\n",
    "    xaxis = go.layout.XAxis(\n",
    "        tickfont = dict(\n",
    "            size = 18\n",
    "        ),\n",
    "        automargin = True\n",
    "    )\n",
    ")\n",
    "\n",
    "data = [go.Bar(\n",
    "            x = df_agg['sources'],\n",
    "            y = df_agg['percentage'],\n",
    "            text = df_agg['percentage'],\n",
    "            textposition = 'auto',\n",
    "            orientation = 'v'\n",
    ")]\n",
    "\n",
    "fig = go.Figure(data=data, layout=layout)\n",
    "py.offline.iplot(fig, filename='horizontal-bar')"
   ]
  },
  {
   "cell_type": "code",
   "execution_count": 136,
   "metadata": {},
   "outputs": [
    {
     "data": {
      "application/vnd.plotly.v1+json": {
       "config": {
        "linkText": "Export to plot.ly",
        "plotlyServerURL": "https://plot.ly",
        "responsive": true,
        "showLink": false
       },
       "data": [
        {
         "orientation": "v",
         "text": [
          "76.31",
          "9.09",
          "14.6"
         ],
         "textposition": "auto",
         "type": "bar",
         "uid": "281f73b3-1d80-4119-b188-e15701202fc4",
         "x": [
          "Positive",
          "Négative",
          "Neutre"
         ],
         "y": [
          76.31232361241769,
          9.087488240827845,
          14.60018814675447
         ]
        }
       ],
       "layout": {
        "title": {
         "text": "Ditribution des Articles par Classe"
        },
        "xaxis": {
         "automargin": true,
         "tickfont": {
          "size": 18
         }
        }
       }
      },
      "text/html": [
       "<div>\n",
       "        \n",
       "        \n",
       "            <div id=\"e6fea8af-5076-421a-ac80-9678a588792a\" class=\"plotly-graph-div\" style=\"height:525px; width:100%;\"></div>\n",
       "            <script type=\"text/javascript\">\n",
       "                require([\"plotly\"], function(Plotly) {\n",
       "                    window.PLOTLYENV=window.PLOTLYENV || {};\n",
       "                    window.PLOTLYENV.BASE_URL='https://plot.ly';\n",
       "                    \n",
       "                if (document.getElementById(\"e6fea8af-5076-421a-ac80-9678a588792a\")) {\n",
       "                    Plotly.newPlot(\n",
       "                        'e6fea8af-5076-421a-ac80-9678a588792a',\n",
       "                        [{\"orientation\": \"v\", \"text\": [\"76.31\", \"9.09\", \"14.6\"], \"textposition\": \"auto\", \"type\": \"bar\", \"uid\": \"bcf71909-bc77-4e79-8ed7-1863c0203a14\", \"x\": [\"Positive\", \"N\\u00e9gative\", \"Neutre\"], \"y\": [76.31232361241769, 9.087488240827845, 14.60018814675447]}],\n",
       "                        {\"title\": {\"text\": \"Ditribution des Articles par Classe\"}, \"xaxis\": {\"automargin\": true, \"tickfont\": {\"size\": 18}}},\n",
       "                        {\"showLink\": false, \"linkText\": \"Export to plot.ly\", \"plotlyServerURL\": \"https://plot.ly\", \"responsive\": true}\n",
       "                    ).then(function(){\n",
       "                            \n",
       "var gd = document.getElementById('e6fea8af-5076-421a-ac80-9678a588792a');\n",
       "var x = new MutationObserver(function (mutations, observer) {{\n",
       "        var display = window.getComputedStyle(gd).display;\n",
       "        if (!display || display === 'none') {{\n",
       "            console.log([gd, 'removed!']);\n",
       "            Plotly.purge(gd);\n",
       "            observer.disconnect();\n",
       "        }}\n",
       "}});\n",
       "\n",
       "// Listen for the removal of the full notebook cells\n",
       "var notebookContainer = gd.closest('#notebook-container');\n",
       "if (notebookContainer) {{\n",
       "    x.observe(notebookContainer, {childList: true});\n",
       "}}\n",
       "\n",
       "// Listen for the clearing of the current output cell\n",
       "var outputEl = gd.closest('.output');\n",
       "if (outputEl) {{\n",
       "    x.observe(outputEl, {childList: true});\n",
       "}}\n",
       "\n",
       "                        })\n",
       "                };\n",
       "                });\n",
       "            </script>\n",
       "        </div>"
      ]
     },
     "metadata": {},
     "output_type": "display_data"
    }
   ],
   "source": [
    "layout = go.Layout(\n",
    "    title = \"Ditribution des Articles par Classe\",\n",
    "    xaxis = go.layout.XAxis(\n",
    "        tickfont = dict(\n",
    "            size = 18\n",
    "        ),\n",
    "        automargin = True\n",
    "    )\n",
    ")\n",
    "X = ['Positive', 'Négative', 'Neutre']\n",
    "v1 = len(df[df['class']==1])*100/len(df) \n",
    "v2 = len(df[df['class']==-1])*100/len(df) \n",
    "v3 = len(df[df['class']==0])*100/len(df)  \n",
    "data = [go.Bar(\n",
    "            x = X,\n",
    "            y = [v1,v2,v3],\n",
    "            text = [round(v1,2),round(v2,2),round(v3,2)],#df_agg['percentage'],\n",
    "            textposition = 'auto',\n",
    "            orientation = 'v'\n",
    ")]\n",
    "\n",
    "fig = go.Figure(data=data, layout=layout)\n",
    "py.offline.iplot(fig, filename='horizontal-bar')"
   ]
  },
  {
   "cell_type": "code",
   "execution_count": null,
   "metadata": {},
   "outputs": [],
   "source": []
  },
  {
   "cell_type": "code",
   "execution_count": 128,
   "metadata": {},
   "outputs": [
    {
     "data": {
      "application/vnd.plotly.v1+json": {
       "config": {
        "linkText": "Export to plot.ly",
        "plotlyServerURL": "https://plot.ly",
        "responsive": true,
        "showLink": false
       },
       "data": [
        {
         "marker": {
          "color": "green"
         },
         "name": "positive",
         "text": [
          "72",
          "167",
          "13"
         ],
         "textposition": "auto",
         "type": "bar",
         "uid": "6fbbcedd-54b7-4234-bc8c-774e2e812079",
         "x": [
          "Algerie360",
          "El Watan",
          "Algerie Part"
         ],
         "y": [
          1001,
          697,
          306
         ]
        },
        {
         "marker": {
          "color": "red"
         },
         "name": "negative",
         "text": [
          "20",
          "15",
          "30"
         ],
         "textposition": "auto",
         "type": "bar",
         "uid": "efbcdb6e-0903-4d91-af55-feacc77eef68",
         "x": [
          "Algerie360",
          "El Watan",
          "Algerie Part"
         ],
         "y": [
          72,
          167,
          13
         ]
        },
        {
         "marker": {
          "color": "orange"
         },
         "name": "neutre",
         "text": [
          "45",
          "15",
          "30"
         ],
         "textposition": "auto",
         "type": "bar",
         "uid": "4fbcfc6b-c84e-4370-b6b5-a50269a54e6b",
         "x": [
          "Algerie360",
          "El Watan",
          "Algerie Part"
         ],
         "y": [
          93,
          182,
          80
         ]
        }
       ],
       "layout": {
        "barmode": "stack",
        "title": {
         "text": "<b>Ditribution des Sources</b>"
        },
        "yaxis": {
         "title": {
          "text": "<i>(Pourcentage)</i>"
         }
        }
       }
      },
      "text/html": [
       "<div>\n",
       "        \n",
       "        \n",
       "            <div id=\"ad36df03-f702-4e14-ad4c-0df2072f8b60\" class=\"plotly-graph-div\" style=\"height:525px; width:100%;\"></div>\n",
       "            <script type=\"text/javascript\">\n",
       "                require([\"plotly\"], function(Plotly) {\n",
       "                    window.PLOTLYENV=window.PLOTLYENV || {};\n",
       "                    window.PLOTLYENV.BASE_URL='https://plot.ly';\n",
       "                    \n",
       "                if (document.getElementById(\"ad36df03-f702-4e14-ad4c-0df2072f8b60\")) {\n",
       "                    Plotly.newPlot(\n",
       "                        'ad36df03-f702-4e14-ad4c-0df2072f8b60',\n",
       "                        [{\"marker\": {\"color\": \"green\"}, \"name\": \"positive\", \"text\": [\"72\", \"167\", \"13\"], \"textposition\": \"auto\", \"type\": \"bar\", \"uid\": \"5b7ef11a-8cb9-41b4-88c5-6c5943ca818c\", \"x\": [\"Algerie360\", \"El Watan\", \"Algerie Part\"], \"y\": [1001, 697, 306]}, {\"marker\": {\"color\": \"red\"}, \"name\": \"negative\", \"text\": [\"20\", \"15\", \"30\"], \"textposition\": \"auto\", \"type\": \"bar\", \"uid\": \"47644aa1-33e0-40fd-8393-74f903d634dd\", \"x\": [\"Algerie360\", \"El Watan\", \"Algerie Part\"], \"y\": [72, 167, 13]}, {\"marker\": {\"color\": \"orange\"}, \"name\": \"neutre\", \"text\": [\"45\", \"15\", \"30\"], \"textposition\": \"auto\", \"type\": \"bar\", \"uid\": \"82172bb6-3e9f-4949-8352-1921a476cbb8\", \"x\": [\"Algerie360\", \"El Watan\", \"Algerie Part\"], \"y\": [93, 182, 80]}],\n",
       "                        {\"barmode\": \"stack\", \"title\": {\"text\": \"<b>Ditribution des Sources</b>\"}, \"yaxis\": {\"title\": {\"text\": \"<i>(Pourcentage)</i>\"}}},\n",
       "                        {\"showLink\": false, \"linkText\": \"Export to plot.ly\", \"plotlyServerURL\": \"https://plot.ly\", \"responsive\": true}\n",
       "                    ).then(function(){\n",
       "                            \n",
       "var gd = document.getElementById('ad36df03-f702-4e14-ad4c-0df2072f8b60');\n",
       "var x = new MutationObserver(function (mutations, observer) {{\n",
       "        var display = window.getComputedStyle(gd).display;\n",
       "        if (!display || display === 'none') {{\n",
       "            console.log([gd, 'removed!']);\n",
       "            Plotly.purge(gd);\n",
       "            observer.disconnect();\n",
       "        }}\n",
       "}});\n",
       "\n",
       "// Listen for the removal of the full notebook cells\n",
       "var notebookContainer = gd.closest('#notebook-container');\n",
       "if (notebookContainer) {{\n",
       "    x.observe(notebookContainer, {childList: true});\n",
       "}}\n",
       "\n",
       "// Listen for the clearing of the current output cell\n",
       "var outputEl = gd.closest('.output');\n",
       "if (outputEl) {{\n",
       "    x.observe(outputEl, {childList: true});\n",
       "}}\n",
       "\n",
       "                        })\n",
       "                };\n",
       "                });\n",
       "            </script>\n",
       "        </div>"
      ]
     },
     "metadata": {},
     "output_type": "display_data"
    }
   ],
   "source": [
    "layout = go.Layout(\n",
    "    title='<b>Ditribution des Sources</b>',\n",
    "    yaxis=dict(\n",
    "        title='<i>(Pourcentage)</i>'\n",
    "    ),\n",
    "    barmode='stack'\n",
    ")\n",
    "sources = ['Algerie360', 'El Watan', 'Algerie Part']\n",
    "p1 = len(df[(df['class'] == 1) & (df['source']=='algerie360')])\n",
    "p2 = len(df[(df['class'] == 1) & (df['source']=='AlgeriePart')])\n",
    "p3 = len(df[(df['class'] == 1) & (df['source']=='Elwatan')])\n",
    "\n",
    "n1 = len(df[(df['class'] == -1) & (df['source']=='algerie360')])\n",
    "n2 = len(df[(df['class'] == -1) & (df['source']=='AlgeriePart')])\n",
    "n3 = len(df[(df['class'] == -1) & (df['source']=='Elwatan')])\n",
    "\n",
    "nn1 = len(df[(df['class'] == 0) & (df['source']=='algerie360')])\n",
    "nn2 = len(df[(df['class'] == 0) & (df['source']=='AlgeriePart')])\n",
    "nn3 = len(df[(df['class'] == 0) & (df['source']=='Elwatan')])\n",
    "\n",
    "trace1 = go.Bar(\n",
    "    x=sources,\n",
    "    y=[p1, p2, p3],\n",
    "    name='positive',\n",
    "    marker=dict(\n",
    "        color = 'green'\n",
    "    ),\n",
    "    text = [n1, n2, n3],\n",
    "    textposition = 'auto'\n",
    "    \n",
    ")\n",
    "trace2 = go.Bar(\n",
    "    x=sources,\n",
    "    y=[n1, n2, n3],\n",
    "    name='negative',\n",
    "     marker=dict(\n",
    "        color = 'red'\n",
    "    ),\n",
    "    text = [20, 15, 30],\n",
    "    textposition = 'auto'\n",
    ")\n",
    "trace3 = go.Bar(\n",
    "    x=sources,\n",
    "    y=[nn1, nn2, nn3],\n",
    "    name='neutre',\n",
    "     marker=dict(\n",
    "        color = 'orange'\n",
    "    ),\n",
    "    text = [45, 15, 30],\n",
    "    textposition = 'auto'\n",
    ")\n",
    "\n",
    "\n",
    "data = [trace1, trace2, trace3]\n",
    "layout = layout\n",
    "\n",
    "fig = go.Figure(data=data, layout=layout)\n",
    "py.offline.iplot(fig, filename='stacked-bar')"
   ]
  },
  {
   "cell_type": "code",
   "execution_count": 159,
   "metadata": {},
   "outputs": [],
   "source": [
    "from wordcloud import WordCloud, STOPWORDS, ImageColorGenerator\n",
    "import matplotlib.pyplot as plt"
   ]
  },
  {
   "cell_type": "code",
   "execution_count": null,
   "metadata": {},
   "outputs": [],
   "source": []
  },
  {
   "cell_type": "code",
   "execution_count": 164,
   "metadata": {},
   "outputs": [
    {
     "name": "stdout",
     "output_type": "stream",
     "text": [
      "\u001b[33mCache entry deserialization failed, entry ignored\u001b[0m\n",
      "Collecting pip\n",
      "  Downloading https://files.pythonhosted.org/packages/5c/e0/be401c003291b56efc55aeba6a80ab790d3d4cece2778288d65323009420/pip-19.1.1-py2.py3-none-any.whl (1.4MB)\n",
      "\u001b[K    100% |████████████████████████████████| 1.4MB 116kB/s ta 0:00:011\n",
      "\u001b[?25hInstalling collected packages: pip\n",
      "  Found existing installation: pip 9.0.1\n",
      "    Uninstalling pip-9.0.1:\n",
      "      Successfully uninstalled pip-9.0.1\n",
      "Successfully installed pip-19.1.1\n"
     ]
    }
   ],
   "source": [
    "!cd word_cloud \n",
    "!pip install --upgrade pip"
   ]
  },
  {
   "cell_type": "code",
   "execution_count": 161,
   "metadata": {},
   "outputs": [
    {
     "name": "stdout",
     "output_type": "stream",
     "text": [
      "There are 15137688 words in the combination of all articles.\n"
     ]
    }
   ],
   "source": [
    "_text = \" \".join(review for review in df.text)\n",
    "print (\"There are {} words in the combination of all articles.\".format(len(_text)))"
   ]
  },
  {
   "cell_type": "code",
   "execution_count": null,
   "metadata": {},
   "outputs": [],
   "source": [
    "stopwords = set(STOPWORDS)\n",
    "stopwords.update([\"avec\", \"leur\",\"sur\", \"le\", \"dans\", \"la\", \"pour\", \"que\", \"et\", \"de\", \"ce\", \"en\", \"cette\", \n",
    "                  \"les\", \"plus\", \"ou\", \"par\", \"qui\", \"sont\", \"dont\", \"ainsi\", \"est\", \"se\", \"ces\"])\n",
    "\n",
    "wordcloud = WordCloud(stopwords=stopwords, background_color=\"white\").generate(_text)\n",
    "\n",
    "plt.imshow(wordcloud, interpolation='bilinear')\n",
    "plt.axis(\"off\")\n",
    "plt.show()"
   ]
  },
  {
   "cell_type": "code",
   "execution_count": null,
   "metadata": {},
   "outputs": [],
   "source": []
  }
 ],
 "metadata": {
  "kernelspec": {
   "display_name": "Python 3",
   "language": "python",
   "name": "python3"
  },
  "language_info": {
   "codemirror_mode": {
    "name": "ipython",
    "version": 3
   },
   "file_extension": ".py",
   "mimetype": "text/x-python",
   "name": "python",
   "nbconvert_exporter": "python",
   "pygments_lexer": "ipython3",
   "version": "3.6.4"
  }
 },
 "nbformat": 4,
 "nbformat_minor": 2
}
